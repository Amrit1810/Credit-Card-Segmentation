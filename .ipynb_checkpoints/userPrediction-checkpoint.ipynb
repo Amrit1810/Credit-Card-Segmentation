{
 "cells": [
  {
   "cell_type": "code",
   "execution_count": 255,
   "metadata": {},
   "outputs": [],
   "source": [
    "import pandas as pd\n",
    "import numpy as np\n",
    "\n",
    "from sklearn.cluster import KMeans\n",
    "\n",
    "from sklearn import preprocessing\n",
    "\n",
    "from sklearn.cluster import MeanShift\n",
    "\n",
    "import joblib"
   ]
  },
  {
   "cell_type": "code",
   "execution_count": 256,
   "metadata": {},
   "outputs": [],
   "source": [
    "data = pd.read_csv(\"credit-card-data.csv\")"
   ]
  },
  {
   "cell_type": "code",
   "execution_count": null,
   "metadata": {},
   "outputs": [],
   "source": []
  },
  {
   "cell_type": "markdown",
   "metadata": {},
   "source": [
    "# Dropping columns which are not needed."
   ]
  },
  {
   "cell_type": "code",
   "execution_count": 257,
   "metadata": {},
   "outputs": [],
   "source": [
    "data = data.drop('CUST_ID', axis = 1)"
   ]
  },
  {
   "cell_type": "code",
   "execution_count": null,
   "metadata": {},
   "outputs": [],
   "source": []
  },
  {
   "cell_type": "markdown",
   "metadata": {},
   "source": [
    "# Using Mean Method to fullfill the null values present in the dataset:"
   ]
  },
  {
   "cell_type": "code",
   "execution_count": 258,
   "metadata": {},
   "outputs": [],
   "source": [
    "data['CREDIT_LIMIT'] = data['CREDIT_LIMIT'].fillna(data['CREDIT_LIMIT'].mean())\n",
    "data['MINIMUM_PAYMENTS'] = data['MINIMUM_PAYMENTS'].fillna(data['MINIMUM_PAYMENTS'].mean())"
   ]
  },
  {
   "cell_type": "markdown",
   "metadata": {},
   "source": [
    "# Taking input from User:"
   ]
  },
  {
   "cell_type": "code",
   "execution_count": 259,
   "metadata": {},
   "outputs": [
    {
     "name": "stdout",
     "output_type": "stream",
     "text": [
      "There are total of 17 features. Please fill in the values:\n",
      "Enter value for 'BALANCE': 3202.467416\n",
      "Enter value for 'BALANCE_FREQUENCY': 0.909091\n",
      "Enter value for 'PURCHASES': 0.00\n",
      "Enter value for 'ONEOFF_PURCHASES': 0.00\n",
      "Enter value for 'INSTALLMENTS_PURCHASES': 0\n",
      "Enter value for 'CASH_ADVANCE': 6442.945483\n",
      "Enter value for 'PURCHASES_FREQUENCY': 0\n",
      "Enter value for 'ONEOFF_PURCHASES_FREQUENCY': 0\n",
      "Enter value for 'PURCHASES_INSTALLMENTS_FREQUENCY': 0\n",
      "Enter value for 'CASH_ADVANCE_FREQUENCY': 0.250000\n",
      "Enter value for 'CASH_ADVANCE_TRX': 4\n",
      "Enter value for 'PURCHASES_TRX': 0\n",
      "Enter value for 'CREDIT_LIMIT': 7000.0\n",
      "Enter value for 'PAYMENTS': 4103.032597\n",
      "Enter value for 'MINIMUM_PAYMENTS': 1072.340217\n",
      "Enter value for 'PRC_FULL_PAYMENT': 0.222222\n",
      "Enter value for 'TENURE': 12\n"
     ]
    }
   ],
   "source": [
    "dictt = pd.DataFrame({'BALANCE' : None,\n",
    "                      \"BALANCE_FREQUENCY\" : None,\n",
    "                      \"PURCHASES\" : None,\n",
    "                      \"ONEOFF_PURCHASES\" : None,\n",
    "                      \"INSTALLMENTS_PURCHASES\" : None,\n",
    "                      \"CASH_ADVANCE\" : None,\n",
    "                      \"PURCHASES_FREQUENCY\" : None,\n",
    "                      \"ONEOFF_PURCHASES_FREQUENCY\" : None,\n",
    "                      \"PURCHASES_INSTALLMENTS_FREQUENCY\" : None,\n",
    "                      \"CASH_ADVANCE_FREQUENCY\" : None,\n",
    "                      \"CASH_ADVANCE_TRX\" : None,\n",
    "                      \"PURCHASES_TRX\" : None,\n",
    "                      \"CREDIT_LIMIT\" : None,\n",
    "                      \"PAYMENTS\" : None,\n",
    "                      \"MINIMUM_PAYMENTS\" : None,\n",
    "                      \"PRC_FULL_PAYMENT\" : None,\n",
    "                      \"TENURE\": None\n",
    "                     }, index = [0])\n",
    "\n",
    "def user():\n",
    "    print(\"There are total of 17 features. Please fill in the values:\")\n",
    "    \n",
    "    for i in range(0,len(data.columns)):\n",
    "        inputValue = float(input(\"Enter value for \"+\"'\"+data.columns[i]+\"'\"+\": \"))\n",
    "        dictt[data.columns[i]] = inputValue\n",
    "    return dictt\n",
    "    \n",
    "userInput = user()"
   ]
  },
  {
   "cell_type": "code",
   "execution_count": null,
   "metadata": {},
   "outputs": [],
   "source": []
  },
  {
   "cell_type": "markdown",
   "metadata": {},
   "source": [
    "# Training"
   ]
  },
  {
   "cell_type": "code",
   "execution_count": 291,
   "metadata": {},
   "outputs": [],
   "source": [
    "#np.random.seed(0)\n",
    "msk = np.random.rand(len(normalizeData)) < 0.8\n",
    "train = data[msk]\n",
    "test = data[~msk]"
   ]
  },
  {
   "cell_type": "code",
   "execution_count": 292,
   "metadata": {},
   "outputs": [],
   "source": [
    "#Appending userInput in the test data:\n",
    "test = test.append(userInput, ignore_index = True)"
   ]
  },
  {
   "cell_type": "code",
   "execution_count": null,
   "metadata": {},
   "outputs": [],
   "source": []
  },
  {
   "cell_type": "markdown",
   "metadata": {},
   "source": [
    "# k-means Clustering Algorithm"
   ]
  },
  {
   "cell_type": "markdown",
   "metadata": {},
   "source": [
    "### Calling kmeans fit method using clusters 7: and using the trained model, we will predict the clusters in the Test data:"
   ]
  },
  {
   "cell_type": "code",
   "execution_count": 293,
   "metadata": {},
   "outputs": [],
   "source": [
    "def km():\n",
    "    #SAVING THE MODEL BECAUSE WE DO NOT NEED TO TRAIN THE MODEL AGAIN & AGAIN. SO, AFTER TRAINING SAVE THE MODEL.\n",
    "    #TRAINING & PREDICTING\n",
    "    kmeans = KMeans(n_clusters = 7, random_state = 0)\n",
    "    kmeans.fit(train)\n",
    "\n",
    "    joblib.dump(kmeans, 'km_userInput.pkl')\n",
    "    km_model = joblib.load('km_userInput.pkl')\n",
    "    km_predictions = km_model.predict(test)\n",
    "    \n",
    "    #Assigning prediction as a new column in the dataset:\n",
    "    kmResult = test.copy()\n",
    "    kmResult['PREDICTED_CLUSTER'] = km_predictions\n",
    "    return kmResult\n",
    "\n",
    "km_predictions = km()"
   ]
  },
  {
   "cell_type": "code",
   "execution_count": 294,
   "metadata": {},
   "outputs": [
    {
     "name": "stdout",
     "output_type": "stream",
     "text": [
      "The values entered by you are lying in Cluster: 0\n"
     ]
    }
   ],
   "source": [
    "prediction = km_predictions['PREDICTED_CLUSTER'][len(km_predictions)-1]\n",
    "print(\"The values entered by you are lying in Cluster:\",prediction)"
   ]
  },
  {
   "cell_type": "code",
   "execution_count": null,
   "metadata": {},
   "outputs": [],
   "source": []
  },
  {
   "cell_type": "code",
   "execution_count": null,
   "metadata": {},
   "outputs": [],
   "source": []
  },
  {
   "cell_type": "code",
   "execution_count": null,
   "metadata": {},
   "outputs": [],
   "source": []
  }
 ],
 "metadata": {
  "kernelspec": {
   "display_name": "Python 3",
   "language": "python",
   "name": "python3"
  },
  "language_info": {
   "codemirror_mode": {
    "name": "ipython",
    "version": 3
   },
   "file_extension": ".py",
   "mimetype": "text/x-python",
   "name": "python",
   "nbconvert_exporter": "python",
   "pygments_lexer": "ipython3",
   "version": "3.8.5"
  }
 },
 "nbformat": 4,
 "nbformat_minor": 4
}
